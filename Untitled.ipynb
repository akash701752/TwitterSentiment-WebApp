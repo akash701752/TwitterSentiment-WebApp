{
 "cells": [
  {
   "cell_type": "code",
   "execution_count": 1,
   "id": "60dcada1",
   "metadata": {},
   "outputs": [
    {
     "data": {
      "text/plain": [
       "'/Users/akashyadav/Desktop/TwitterAnalyser/Tweet-Analyzer'"
      ]
     },
     "execution_count": 1,
     "metadata": {},
     "output_type": "execute_result"
    }
   ],
   "source": [
    "pwd"
   ]
  },
  {
   "cell_type": "code",
   "execution_count": 2,
   "id": "1949b58f",
   "metadata": {},
   "outputs": [
    {
     "name": "stdout",
     "output_type": "stream",
     "text": [
      "Pipfile                  Tweets_Analyzer.ipynb    app.py\r\n",
      "Procfile                 Twitter_data             config.ini\r\n",
      "README.md                Untitled.ipynb           requirements.txt\r\n",
      "SentimentAnalysis.ipynb  WC.jpg                   setup.sh\r\n"
     ]
    }
   ],
   "source": [
    "ls"
   ]
  },
  {
   "cell_type": "code",
   "execution_count": 3,
   "id": "e969c6f9",
   "metadata": {},
   "outputs": [
    {
     "ename": "SyntaxError",
     "evalue": "invalid syntax (3704180090.py, line 1)",
     "output_type": "error",
     "traceback": [
      "\u001b[0;36m  Input \u001b[0;32mIn [3]\u001b[0;36m\u001b[0m\n\u001b[0;31m    streamlit app.py\u001b[0m\n\u001b[0m              ^\u001b[0m\n\u001b[0;31mSyntaxError\u001b[0m\u001b[0;31m:\u001b[0m invalid syntax\n"
     ]
    }
   ],
   "source": [
    "streamlit app.py"
   ]
  },
  {
   "cell_type": "code",
   "execution_count": 5,
   "id": "8d8d5fbc",
   "metadata": {},
   "outputs": [
    {
     "name": "stdout",
     "output_type": "stream",
     "text": [
      "Traceback (most recent call last):\r\n",
      "  File \"/Users/akashyadav/Desktop/TwitterAnalyser/Tweet-Analyzer/app.py\", line 2, in <module>\r\n",
      "    import streamlit as st\r\n",
      "ModuleNotFoundError: No module named 'streamlit'\r\n"
     ]
    }
   ],
   "source": [
    "!python app.py"
   ]
  },
  {
   "cell_type": "code",
   "execution_count": 7,
   "id": "d6726400",
   "metadata": {},
   "outputs": [
    {
     "name": "stdout",
     "output_type": "stream",
     "text": [
      "Collecting streamlit==0.62.0\n",
      "  Using cached streamlit-0.62.0-py2.py3-none-any.whl (7.1 MB)\n",
      "Collecting altair>=3.2.0\n",
      "  Using cached altair-4.2.0-py3-none-any.whl (812 kB)\n",
      "Collecting astor\n",
      "  Using cached astor-0.8.1-py2.py3-none-any.whl (27 kB)\n",
      "Collecting base58\n",
      "  Using cached base58-2.1.1-py3-none-any.whl (5.6 kB)\n",
      "Collecting blinker\n",
      "  Using cached blinker-1.5-py2.py3-none-any.whl (12 kB)\n",
      "Collecting boto3\n",
      "  Using cached boto3-1.26.13-py3-none-any.whl (132 kB)\n",
      "Collecting botocore>=1.13.44\n",
      "  Using cached botocore-1.29.13-py3-none-any.whl (9.9 MB)\n",
      "Collecting cachetools>=4.0\n",
      "  Using cached cachetools-5.2.0-py3-none-any.whl (9.3 kB)\n",
      "Requirement already satisfied: click>=7.0 in /Library/Frameworks/Python.framework/Versions/3.11/lib/python3.11/site-packages (from streamlit==0.62.0) (8.1.3)\n",
      "Collecting enum-compat\n",
      "  Using cached enum_compat-0.0.3-py3-none-any.whl (1.3 kB)\n",
      "Requirement already satisfied: numpy in /Library/Frameworks/Python.framework/Versions/3.11/lib/python3.11/site-packages (from streamlit==0.62.0) (1.23.4)\n",
      "Requirement already satisfied: packaging in /Library/Frameworks/Python.framework/Versions/3.11/lib/python3.11/site-packages (from streamlit==0.62.0) (21.3)\n",
      "Requirement already satisfied: pandas>=0.21.0 in /Library/Frameworks/Python.framework/Versions/3.11/lib/python3.11/site-packages (from streamlit==0.62.0) (1.5.1)\n",
      "Requirement already satisfied: pillow>=6.2.0 in /Library/Frameworks/Python.framework/Versions/3.11/lib/python3.11/site-packages (from streamlit==0.62.0) (9.3.0)\n",
      "Collecting protobuf>=3.6.0\n",
      "  Using cached protobuf-4.21.9-cp37-abi3-macosx_10_9_universal2.whl (483 kB)\n",
      "Collecting pydeck>=0.1.dev5\n",
      "  Using cached pydeck-0.8.0-py2.py3-none-any.whl (4.7 MB)\n",
      "Requirement already satisfied: python-dateutil in /Library/Frameworks/Python.framework/Versions/3.11/lib/python3.11/site-packages (from streamlit==0.62.0) (2.8.2)\n",
      "Requirement already satisfied: requests in /Library/Frameworks/Python.framework/Versions/3.11/lib/python3.11/site-packages (from streamlit==0.62.0) (2.28.1)\n",
      "Collecting toml\n",
      "  Using cached toml-0.10.2-py2.py3-none-any.whl (16 kB)\n",
      "Requirement already satisfied: tornado>=5.0 in /Library/Frameworks/Python.framework/Versions/3.11/lib/python3.11/site-packages (from streamlit==0.62.0) (6.2)\n",
      "Collecting tzlocal\n",
      "  Using cached tzlocal-4.2-py3-none-any.whl (19 kB)\n",
      "Collecting validators\n",
      "  Using cached validators-0.20.0-py3-none-any.whl\n",
      "Collecting watchdog\n",
      "  Using cached watchdog-2.1.9-cp311-cp311-macosx_10_9_universal2.whl\n",
      "Requirement already satisfied: entrypoints in /Library/Frameworks/Python.framework/Versions/3.11/lib/python3.11/site-packages (from altair>=3.2.0->streamlit==0.62.0) (0.4)\n",
      "Requirement already satisfied: jinja2 in /Library/Frameworks/Python.framework/Versions/3.11/lib/python3.11/site-packages (from altair>=3.2.0->streamlit==0.62.0) (3.1.2)\n",
      "Requirement already satisfied: jsonschema>=3.0 in /Library/Frameworks/Python.framework/Versions/3.11/lib/python3.11/site-packages (from altair>=3.2.0->streamlit==0.62.0) (4.17.0)\n",
      "Collecting toolz\n",
      "  Using cached toolz-0.12.0-py3-none-any.whl (55 kB)\n",
      "Collecting jmespath<2.0.0,>=0.7.1\n",
      "  Using cached jmespath-1.0.1-py3-none-any.whl (20 kB)\n",
      "Requirement already satisfied: urllib3<1.27,>=1.25.4 in /Library/Frameworks/Python.framework/Versions/3.11/lib/python3.11/site-packages (from botocore>=1.13.44->streamlit==0.62.0) (1.26.12)\n",
      "Requirement already satisfied: pytz>=2020.1 in /Library/Frameworks/Python.framework/Versions/3.11/lib/python3.11/site-packages (from pandas>=0.21.0->streamlit==0.62.0) (2022.6)\n",
      "Requirement already satisfied: six>=1.5 in /Library/Frameworks/Python.framework/Versions/3.11/lib/python3.11/site-packages (from python-dateutil->streamlit==0.62.0) (1.16.0)\n",
      "Collecting s3transfer<0.7.0,>=0.6.0\n",
      "  Using cached s3transfer-0.6.0-py3-none-any.whl (79 kB)\n",
      "Requirement already satisfied: pyparsing!=3.0.5,>=2.0.2 in /Library/Frameworks/Python.framework/Versions/3.11/lib/python3.11/site-packages (from packaging->streamlit==0.62.0) (3.0.9)\n",
      "Requirement already satisfied: charset-normalizer<3,>=2 in /Library/Frameworks/Python.framework/Versions/3.11/lib/python3.11/site-packages (from requests->streamlit==0.62.0) (2.1.1)\n",
      "Requirement already satisfied: idna<4,>=2.5 in /Library/Frameworks/Python.framework/Versions/3.11/lib/python3.11/site-packages (from requests->streamlit==0.62.0) (3.4)\n",
      "Requirement already satisfied: certifi>=2017.4.17 in /Library/Frameworks/Python.framework/Versions/3.11/lib/python3.11/site-packages (from requests->streamlit==0.62.0) (2022.9.24)\n",
      "Collecting pytz-deprecation-shim\n",
      "  Using cached pytz_deprecation_shim-0.1.0.post0-py2.py3-none-any.whl (15 kB)\n",
      "Requirement already satisfied: decorator>=3.4.0 in /Library/Frameworks/Python.framework/Versions/3.11/lib/python3.11/site-packages (from validators->streamlit==0.62.0) (5.1.1)\n",
      "Requirement already satisfied: MarkupSafe>=2.0 in /Library/Frameworks/Python.framework/Versions/3.11/lib/python3.11/site-packages (from jinja2->altair>=3.2.0->streamlit==0.62.0) (2.1.1)\n",
      "Requirement already satisfied: attrs>=17.4.0 in /Library/Frameworks/Python.framework/Versions/3.11/lib/python3.11/site-packages (from jsonschema>=3.0->altair>=3.2.0->streamlit==0.62.0) (22.1.0)\n",
      "Requirement already satisfied: pyrsistent!=0.17.0,!=0.17.1,!=0.17.2,>=0.14.0 in /Library/Frameworks/Python.framework/Versions/3.11/lib/python3.11/site-packages (from jsonschema>=3.0->altair>=3.2.0->streamlit==0.62.0) (0.19.1)\n",
      "Collecting tzdata\n",
      "  Using cached tzdata-2022.6-py2.py3-none-any.whl (338 kB)\n",
      "Installing collected packages: enum-compat, watchdog, validators, tzdata, toolz, toml, protobuf, jmespath, cachetools, blinker, base58, astor, pytz-deprecation-shim, pydeck, botocore, tzlocal, s3transfer, altair, boto3, streamlit\n",
      "Successfully installed altair-4.2.0 astor-0.8.1 base58-2.1.1 blinker-1.5 boto3-1.26.13 botocore-1.29.13 cachetools-5.2.0 enum-compat-0.0.3 jmespath-1.0.1 protobuf-4.21.9 pydeck-0.8.0 pytz-deprecation-shim-0.1.0.post0 s3transfer-0.6.0 streamlit-0.62.0 toml-0.10.2 toolz-0.12.0 tzdata-2022.6 tzlocal-4.2 validators-0.20.0 watchdog-2.1.9\n"
     ]
    }
   ],
   "source": [
    "!pip install streamlit==0.62.0"
   ]
  },
  {
   "cell_type": "code",
   "execution_count": 9,
   "id": "18d55462",
   "metadata": {},
   "outputs": [
    {
     "name": "stdout",
     "output_type": "stream",
     "text": [
      "Traceback (most recent call last):\r\n",
      "  File \"/Users/akashyadav/Desktop/TwitterAnalyser/Tweet-Analyzer/app.py\", line 2, in <module>\r\n",
      "    import streamlit as st\r\n",
      "ModuleNotFoundError: No module named 'streamlit'\r\n"
     ]
    }
   ],
   "source": [
    "!python app.py"
   ]
  },
  {
   "cell_type": "code",
   "execution_count": null,
   "id": "352738ff",
   "metadata": {},
   "outputs": [],
   "source": []
  }
 ],
 "metadata": {
  "kernelspec": {
   "display_name": "Python 3 (ipykernel)",
   "language": "python",
   "name": "python3"
  },
  "language_info": {
   "codemirror_mode": {
    "name": "ipython",
    "version": 3
   },
   "file_extension": ".py",
   "mimetype": "text/x-python",
   "name": "python",
   "nbconvert_exporter": "python",
   "pygments_lexer": "ipython3",
   "version": "3.9.12"
  }
 },
 "nbformat": 4,
 "nbformat_minor": 5
}
